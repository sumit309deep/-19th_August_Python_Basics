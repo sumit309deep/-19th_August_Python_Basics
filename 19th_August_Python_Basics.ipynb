{
 "cells": [
  {
   "cell_type": "code",
   "execution_count": 16,
   "id": "d385e4cd-2bf0-4090-9c59-d63318a9db8a",
   "metadata": {},
   "outputs": [
    {
     "name": "stdin",
     "output_type": "stream",
     "text": [
      "a= 50\n",
      "b= 440\n"
     ]
    },
    {
     "name": "stdout",
     "output_type": "stream",
     "text": [
      "new values are:a= 440 b= 50\n"
     ]
    }
   ],
   "source": [
    "# 1. program to swap int #\n",
    "a=int(input('a='))\n",
    "b=int(input('b='))\n",
    "a,b=b,a\n",
    "print('new values are:' 'a=' ,a ,'b=', b)"
   ]
  },
  {
   "cell_type": "code",
   "execution_count": 23,
   "id": "d707dc8d-7bbe-4c7b-be15-fd1816a40fdd",
   "metadata": {
    "tags": []
   },
   "outputs": [
    {
     "name": "stdin",
     "output_type": "stream",
     "text": [
      "the length of the rectangle in metres: 50\n",
      "the width of the rectangle in metres: 30\n"
     ]
    },
    {
     "name": "stdout",
     "output_type": "stream",
     "text": [
      "area: 1500.0 sqm\n"
     ]
    }
   ],
   "source": [
    "# 2. program to find area#\n",
    "#enter the length of the rectangle#\n",
    "l= float(input('the length of the rectangle in metres:'))\n",
    "#enter the width of the rectangle#\n",
    "b= float(input('the width of the rectangle in metres:', ))\n",
    "area= l*b\n",
    "area=print('area:', area, 'sqm')"
   ]
  },
  {
   "cell_type": "code",
   "execution_count": 24,
   "id": "6e51eb89-5ebb-4ae3-aa58-bb63571deb24",
   "metadata": {},
   "outputs": [
    {
     "name": "stdin",
     "output_type": "stream",
     "text": [
      "temperature in celsius: 30\n"
     ]
    },
    {
     "name": "stdout",
     "output_type": "stream",
     "text": [
      "temerature in farenheight: 86.0\n"
     ]
    }
   ],
   "source": [
    "#3.  program to convert temp celsius to farenheit#\n",
    "\n",
    "temp_cel= float (input('temperature in celsius:' ))\n",
    "temp_far= (temp_cel*(9/5))+32\n",
    "print('temerature in farenheight:',temp_far)"
   ]
  },
  {
   "cell_type": "code",
   "execution_count": 26,
   "id": "704c6088-6a17-4495-92db-653303cd61b2",
   "metadata": {},
   "outputs": [
    {
     "name": "stdin",
     "output_type": "stream",
     "text": [
      " python\n"
     ]
    },
    {
     "name": "stdout",
     "output_type": "stream",
     "text": [
      "length of the string is: 6\n"
     ]
    }
   ],
   "source": [
    "# 1.program to find the length of a string #\n",
    "a= str(input())\n",
    "print('length of the string is:' ,len(a))"
   ]
  },
  {
   "cell_type": "code",
   "execution_count": 27,
   "id": "f6cb3f3d-eea2-45e2-bb0d-ee9105ee7a2b",
   "metadata": {},
   "outputs": [
    {
     "name": "stdin",
     "output_type": "stream",
     "text": [
      " enter a string:   i am learning data science\n"
     ]
    },
    {
     "name": "stdout",
     "output_type": "stream",
     "text": [
      "10\n"
     ]
    }
   ],
   "source": [
    "# 2. program to count no. of vowels in string\n",
    "s1= input(' enter a string:  ')\n",
    "s2=\"aeiou\"\n",
    "s3=s1.lower()\n",
    "count=0\n",
    "for char in s3:\n",
    "    if char in s2:\n",
    "        count += 1\n",
    "print(count)\n"
   ]
  },
  {
   "cell_type": "code",
   "execution_count": 28,
   "id": "436cc646-2567-41d7-8e2f-18f2c3e12e91",
   "metadata": {},
   "outputs": [
    {
     "name": "stdin",
     "output_type": "stream",
     "text": [
      " enter a string:   i am learning data science\n"
     ]
    },
    {
     "name": "stdout",
     "output_type": "stream",
     "text": [
      "10\n"
     ]
    }
   ],
   "source": [
    "# 2. alternate  program to count no. of vowels in string\n",
    "s1= input(' enter a string:  ')\n",
    "vowels = \"aeiouAEIOU\"\n",
    " \n",
    "count = sum(s1.count(vowel) for vowel in vowels)\n",
    "print(count)"
   ]
  },
  {
   "cell_type": "code",
   "execution_count": 29,
   "id": "a429f90d-2bf3-4994-832f-b968a39807c5",
   "metadata": {},
   "outputs": [
    {
     "name": "stdin",
     "output_type": "stream",
     "text": [
      " enter a string:   wow today is sunday\n"
     ]
    },
    {
     "name": "stdout",
     "output_type": "stream",
     "text": [
      "the input string is:    wow today is sunday\n",
      "the reversed string for given input is:   yadnus si yadot wow\n"
     ]
    }
   ],
   "source": [
    "# 3. program to reverse a string #\n",
    "\n",
    "s1= input(' enter a string:  ')\n",
    "print(\"the input string is:   \", s1  )\n",
    "s2=s1[::-1]\n",
    "print(\"the reversed string for given input is:  \",s2)"
   ]
  },
  {
   "cell_type": "code",
   "execution_count": 30,
   "id": "be61dabc-f5f9-4730-98c4-e42caaa087d9",
   "metadata": {},
   "outputs": [
    {
     "name": "stdin",
     "output_type": "stream",
     "text": [
      " enter a string:   radar\n"
     ]
    },
    {
     "name": "stdout",
     "output_type": "stream",
     "text": [
      " the given string is palindrome\n"
     ]
    }
   ],
   "source": [
    "# 4. program to check if a string is palindrome #\n",
    "s1= input(' enter a string:  ')\n",
    "s3=s1.replace(\" \",\"\").lower()\n",
    "s2=s3[::-1]\n",
    "if s3==s2 :\n",
    "    print (\" the given string is palindrome\")\n",
    "else:\n",
    "    print (\" the given string is not palindrome\")\n",
    "       "
   ]
  },
  {
   "cell_type": "code",
   "execution_count": 31,
   "id": "d9eaad73-a08a-4bda-ada9-4ca553091d76",
   "metadata": {},
   "outputs": [
    {
     "name": "stdin",
     "output_type": "stream",
     "text": [
      " enter a string:   this is my first assignment\n"
     ]
    },
    {
     "name": "stdout",
     "output_type": "stream",
     "text": [
      "thisismyfirstassignment\n"
     ]
    }
   ],
   "source": [
    "# 5. program to remove space from a string  #\n",
    "s1= input(' enter a string:  ')\n",
    "s3=s1.replace(\" \",\"\")\n",
    "print(s3)\n"
   ]
  },
  {
   "cell_type": "code",
   "execution_count": null,
   "id": "d762d136-ff0d-4ab8-abd4-3dc770dc8452",
   "metadata": {},
   "outputs": [],
   "source": []
  }
 ],
 "metadata": {
  "kernelspec": {
   "display_name": "Python 3 (ipykernel)",
   "language": "python",
   "name": "python3"
  },
  "language_info": {
   "codemirror_mode": {
    "name": "ipython",
    "version": 3
   },
   "file_extension": ".py",
   "mimetype": "text/x-python",
   "name": "python",
   "nbconvert_exporter": "python",
   "pygments_lexer": "ipython3",
   "version": "3.10.8"
  }
 },
 "nbformat": 4,
 "nbformat_minor": 5
}
